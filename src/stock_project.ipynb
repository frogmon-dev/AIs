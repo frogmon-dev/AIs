{
 "cells": [
  {
   "cell_type": "code",
   "execution_count": 1,
   "id": "c5b955b1-1433-49fb-a76f-0fb3d1868dbc",
   "metadata": {},
   "outputs": [],
   "source": [
    "#!pip install yfinance\n",
    "\n",
    "import yfinance as yf\n"
   ]
  },
  {
   "cell_type": "code",
   "execution_count": 3,
   "id": "a8949f05-bcee-44c6-8333-6bd9490dd51a",
   "metadata": {},
   "outputs": [
    {
     "name": "stdout",
     "output_type": "stream",
     "text": [
      "[*********************100%***********************]  1 of 1 completed\n"
     ]
    },
    {
     "data": {
      "text/html": [
       "<div>\n",
       "<style scoped>\n",
       "    .dataframe tbody tr th:only-of-type {\n",
       "        vertical-align: middle;\n",
       "    }\n",
       "\n",
       "    .dataframe tbody tr th {\n",
       "        vertical-align: top;\n",
       "    }\n",
       "\n",
       "    .dataframe thead th {\n",
       "        text-align: right;\n",
       "    }\n",
       "</style>\n",
       "<table border=\"1\" class=\"dataframe\">\n",
       "  <thead>\n",
       "    <tr style=\"text-align: right;\">\n",
       "      <th></th>\n",
       "      <th>Open</th>\n",
       "      <th>High</th>\n",
       "      <th>Low</th>\n",
       "      <th>Close</th>\n",
       "      <th>Adj Close</th>\n",
       "      <th>Volume</th>\n",
       "    </tr>\n",
       "    <tr>\n",
       "      <th>Date</th>\n",
       "      <th></th>\n",
       "      <th></th>\n",
       "      <th></th>\n",
       "      <th></th>\n",
       "      <th></th>\n",
       "      <th></th>\n",
       "    </tr>\n",
       "  </thead>\n",
       "  <tbody>\n",
       "    <tr>\n",
       "      <th>2022-01-03</th>\n",
       "      <td>83.915001</td>\n",
       "      <td>85.720001</td>\n",
       "      <td>82.559998</td>\n",
       "      <td>85.565002</td>\n",
       "      <td>85.565002</td>\n",
       "      <td>76505200</td>\n",
       "    </tr>\n",
       "    <tr>\n",
       "      <th>2022-01-04</th>\n",
       "      <td>85.915001</td>\n",
       "      <td>85.945000</td>\n",
       "      <td>80.195000</td>\n",
       "      <td>82.239998</td>\n",
       "      <td>82.239998</td>\n",
       "      <td>106648200</td>\n",
       "    </tr>\n",
       "    <tr>\n",
       "      <th>2022-01-05</th>\n",
       "      <td>81.190002</td>\n",
       "      <td>81.860001</td>\n",
       "      <td>74.500000</td>\n",
       "      <td>74.675003</td>\n",
       "      <td>74.675003</td>\n",
       "      <td>133245200</td>\n",
       "    </tr>\n",
       "    <tr>\n",
       "      <th>2022-01-06</th>\n",
       "      <td>73.514999</td>\n",
       "      <td>76.404999</td>\n",
       "      <td>72.209999</td>\n",
       "      <td>74.470001</td>\n",
       "      <td>74.470001</td>\n",
       "      <td>154226600</td>\n",
       "    </tr>\n",
       "    <tr>\n",
       "      <th>2022-01-07</th>\n",
       "      <td>74.449997</td>\n",
       "      <td>75.470001</td>\n",
       "      <td>71.000000</td>\n",
       "      <td>72.035004</td>\n",
       "      <td>72.035004</td>\n",
       "      <td>142713400</td>\n",
       "    </tr>\n",
       "    <tr>\n",
       "      <th>...</th>\n",
       "      <td>...</td>\n",
       "      <td>...</td>\n",
       "      <td>...</td>\n",
       "      <td>...</td>\n",
       "      <td>...</td>\n",
       "      <td>...</td>\n",
       "    </tr>\n",
       "    <tr>\n",
       "      <th>2022-05-24</th>\n",
       "      <td>27.150000</td>\n",
       "      <td>27.360001</td>\n",
       "      <td>25.430000</td>\n",
       "      <td>26.900000</td>\n",
       "      <td>26.900000</td>\n",
       "      <td>183244300</td>\n",
       "    </tr>\n",
       "    <tr>\n",
       "      <th>2022-05-25</th>\n",
       "      <td>26.440001</td>\n",
       "      <td>28.600000</td>\n",
       "      <td>26.389999</td>\n",
       "      <td>27.980000</td>\n",
       "      <td>27.980000</td>\n",
       "      <td>180641900</td>\n",
       "    </tr>\n",
       "    <tr>\n",
       "      <th>2022-05-26</th>\n",
       "      <td>27.760000</td>\n",
       "      <td>30.780001</td>\n",
       "      <td>27.680000</td>\n",
       "      <td>30.320000</td>\n",
       "      <td>30.320000</td>\n",
       "      <td>168565800</td>\n",
       "    </tr>\n",
       "    <tr>\n",
       "      <th>2022-05-27</th>\n",
       "      <td>31.299999</td>\n",
       "      <td>33.340000</td>\n",
       "      <td>31.270000</td>\n",
       "      <td>33.290001</td>\n",
       "      <td>33.290001</td>\n",
       "      <td>157121900</td>\n",
       "    </tr>\n",
       "    <tr>\n",
       "      <th>2022-05-31</th>\n",
       "      <td>33.299999</td>\n",
       "      <td>33.900002</td>\n",
       "      <td>31.731199</td>\n",
       "      <td>33.680099</td>\n",
       "      <td>33.680099</td>\n",
       "      <td>113409077</td>\n",
       "    </tr>\n",
       "  </tbody>\n",
       "</table>\n",
       "<p>103 rows × 6 columns</p>\n",
       "</div>"
      ],
      "text/plain": [
       "                 Open       High        Low      Close  Adj Close     Volume\n",
       "Date                                                                        \n",
       "2022-01-03  83.915001  85.720001  82.559998  85.565002  85.565002   76505200\n",
       "2022-01-04  85.915001  85.945000  80.195000  82.239998  82.239998  106648200\n",
       "2022-01-05  81.190002  81.860001  74.500000  74.675003  74.675003  133245200\n",
       "2022-01-06  73.514999  76.404999  72.209999  74.470001  74.470001  154226600\n",
       "2022-01-07  74.449997  75.470001  71.000000  72.035004  72.035004  142713400\n",
       "...               ...        ...        ...        ...        ...        ...\n",
       "2022-05-24  27.150000  27.360001  25.430000  26.900000  26.900000  183244300\n",
       "2022-05-25  26.440001  28.600000  26.389999  27.980000  27.980000  180641900\n",
       "2022-05-26  27.760000  30.780001  27.680000  30.320000  30.320000  168565800\n",
       "2022-05-27  31.299999  33.340000  31.270000  33.290001  33.290001  157121900\n",
       "2022-05-31  33.299999  33.900002  31.731199  33.680099  33.680099  113409077\n",
       "\n",
       "[103 rows x 6 columns]"
      ]
     },
     "execution_count": 3,
     "metadata": {},
     "output_type": "execute_result"
    }
   ],
   "source": [
    "data = yf.download('TQQQ', start = '2022-01-01')\n",
    "\n",
    "data"
   ]
  },
  {
   "cell_type": "code",
   "execution_count": 16,
   "id": "933b14ce-bcef-478b-96c8-54db81d1da91",
   "metadata": {},
   "outputs": [
    {
     "name": "stderr",
     "output_type": "stream",
     "text": [
      "/tmp/ipykernel_1565/2092938870.py:2: FutureWarning: Passing a set as an indexer is deprecated and will raise in a future version. Use a list instead.\n",
      "  data.plot(figsize=(12, 4), y={'High', 'Low'})\n"
     ]
    },
    {
     "data": {
      "text/plain": [
       "<AxesSubplot:xlabel='Date'>"
      ]
     },
     "execution_count": 16,
     "metadata": {},
     "output_type": "execute_result"
    },
    {
     "data": {
      "image/png": "[encoded data removed]",
      "text/plain": [
       "<Figure size 864x288 with 1 Axes>"
      ]
     },
     "metadata": {
      "needs_background": "light"
     },
     "output_type": "display_data"
    }
   ],
   "source": [
    "%matplotlib inline\n",
    "data.plot(figsize=(12, 4), y={'High', 'Low'})\n",
    "#ax = city_df.plot(kind='bar', title='날씨', figsize=(12, 4), legend=True, fontsize=12)"
   ]
  },
  {
   "cell_type": "code",
   "execution_count": 25,
   "id": "ec20f910-eb09-445c-9862-8075171ba64a",
   "metadata": {},
   "outputs": [
    {
     "data": {
      "text/plain": [
       "'AAPL'"
      ]
     },
     "execution_count": 25,
     "metadata": {},
     "output_type": "execute_result"
    }
   ],
   "source": [
    "#!pip3 install pymongo\n",
    "import pymongo\n",
    "\n",
    "id = 'frogmon'\n",
    "pw = 'rhlrnf8359!'\n",
    "host = 'frogmon.synology.me'\n",
    "aport = 27017\n",
    "client = pymongo.MongoClient(\"mongodb://%s:%s@%s:%s/?serverSelectionTimeoutMS=5000&connectTimeoutMS=10000\" % (id, pw, host, aport))\n",
    "\n",
    "db = client.stock\n",
    "col = db.stock_info\n",
    "stock_data = col.find({\"symbol\": 'AAPL'})\n",
    "\n",
    "stock_data[0]['symbol']"
   ]
  },
  {
   "cell_type": "code",
   "execution_count": null,
   "id": "f531447b-1926-4a27-9ff7-563e5d3ebbd9",
   "metadata": {},
   "outputs": [],
   "source": []
  }
 ],
 "metadata": {
  "kernelspec": {
   "display_name": "Python 3 (ipykernel)",
   "language": "python",
   "name": "python3"
  },
  "language_info": {
   "codemirror_mode": {
    "name": "ipython",
    "version": 3
   },
   "file_extension": ".py",
   "mimetype": "text/x-python",
   "name": "python",
   "nbconvert_exporter": "python",
   "pygments_lexer": "ipython3",
   "version": "3.9.12"
  }
 },
 "nbformat": 4,
 "nbformat_minor": 5
}
